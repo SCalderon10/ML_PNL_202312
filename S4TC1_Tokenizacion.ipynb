{
 "cells": [
  {
   "cell_type": "markdown",
   "metadata": {},
   "source": [
    "![image info](https://raw.githubusercontent.com/albahnsen/MIAD_ML_and_NLP/main/images/banner_1.png)"
   ]
  },
  {
   "cell_type": "markdown",
   "metadata": {},
   "source": [
    "# Taller: Tokenización de textos  \n",
    "\n",
    "En este taller podrán poner en práctica sus conocimientos sobre preprocesamiento de texto (tokenización). El taller está constituido por 5 puntos, en los cuales deberan seguir las intrucciones de cada numeral para su desarrollo."
   ]
  },
  {
   "cell_type": "markdown",
   "metadata": {},
   "source": [
    "## Datos detección de toxicidad en comentarios\n",
    "\n",
    "En este taller se usará el conjunto de datos de detección de toxicidad en comentarios de la base de datos de Kaggle. Cada observación es un comentario que tiene como variable objetivo (target) la probabilidad de ser un comentario tóxico. El objetivo es predecir la toxicidad de cada comentario. Para más detalles pueden visitar el siguiente enlace: [datos](https://www.kaggle.com/c/jigsaw-unintended-bias-in-toxicity-classification/data)."
   ]
  },
  {
   "cell_type": "code",
   "execution_count": 1,
   "metadata": {},
   "outputs": [],
   "source": [
    "import warnings\n",
    "warnings.filterwarnings('ignore')"
   ]
  },
  {
   "cell_type": "code",
   "execution_count": 2,
   "metadata": {},
   "outputs": [
    {
     "name": "stdout",
     "output_type": "stream",
     "text": [
      "Defaulting to user installation because normal site-packages is not writeable\n",
      "Collecting sklearn\n",
      "  Using cached sklearn-0.0.post4.tar.gz (3.6 kB)\n",
      "  Preparing metadata (setup.py): started\n",
      "  Preparing metadata (setup.py): finished with status 'done'\n",
      "Building wheels for collected packages: sklearn\n",
      "  Building wheel for sklearn (setup.py): started\n",
      "  Building wheel for sklearn (setup.py): finished with status 'done'\n",
      "  Created wheel for sklearn: filename=sklearn-0.0.post4-py3-none-any.whl size=2951 sha256=464c46cd5cc36c725b47c2c5b3d1962ef52e329cd294075039e272fa49c5fec1\n",
      "  Stored in directory: c:\\users\\calda\\appdata\\local\\pip\\cache\\wheels\\d5\\b2\\a9\\590d15767d34955f20a9a033e8db973b79cb5672d95790c0a9\n",
      "Successfully built sklearn\n",
      "Installing collected packages: sklearn\n",
      "Successfully installed sklearn-0.0.post4\n",
      "Note: you may need to restart the kernel to use updated packages.\n"
     ]
    }
   ],
   "source": [
    "pip install sklearn"
   ]
  },
  {
   "cell_type": "code",
   "execution_count": 3,
   "metadata": {},
   "outputs": [],
   "source": [
    "# Importación librerías\n",
    "import pandas as pd\n",
    "import numpy as npa\n",
    "import scipy as sp\n",
    "from sklearn.model_selection import train_test_split, cross_val_score\n",
    "from sklearn.feature_extraction.text import CountVectorizer, TfidfVectorizer\n",
    "from sklearn import metrics\n",
    "%matplotlib inline"
   ]
  },
  {
   "cell_type": "code",
   "execution_count": 4,
   "metadata": {},
   "outputs": [
    {
     "data": {
      "text/html": [
       "<div>\n",
       "<style scoped>\n",
       "    .dataframe tbody tr th:only-of-type {\n",
       "        vertical-align: middle;\n",
       "    }\n",
       "\n",
       "    .dataframe tbody tr th {\n",
       "        vertical-align: top;\n",
       "    }\n",
       "\n",
       "    .dataframe thead th {\n",
       "        text-align: right;\n",
       "    }\n",
       "</style>\n",
       "<table border=\"1\" class=\"dataframe\">\n",
       "  <thead>\n",
       "    <tr style=\"text-align: right;\">\n",
       "      <th></th>\n",
       "      <th>id</th>\n",
       "      <th>comment_text</th>\n",
       "      <th>target</th>\n",
       "    </tr>\n",
       "  </thead>\n",
       "  <tbody>\n",
       "    <tr>\n",
       "      <th>0</th>\n",
       "      <td>6101457</td>\n",
       "      <td>What are you talking about? What group do Pete...</td>\n",
       "      <td>0.0</td>\n",
       "    </tr>\n",
       "    <tr>\n",
       "      <th>1</th>\n",
       "      <td>5342103</td>\n",
       "      <td>NO!, Let him, we need a Conservative government.</td>\n",
       "      <td>0.0</td>\n",
       "    </tr>\n",
       "    <tr>\n",
       "      <th>2</th>\n",
       "      <td>743361</td>\n",
       "      <td>Perhaps he took the \"power out of the Cardinal...</td>\n",
       "      <td>0.2</td>\n",
       "    </tr>\n",
       "    <tr>\n",
       "      <th>3</th>\n",
       "      <td>551008</td>\n",
       "      <td>As always, yours is dripping with sarcasm, whi...</td>\n",
       "      <td>0.0</td>\n",
       "    </tr>\n",
       "    <tr>\n",
       "      <th>4</th>\n",
       "      <td>865998</td>\n",
       "      <td>The dirty little secret is that the price rang...</td>\n",
       "      <td>0.3</td>\n",
       "    </tr>\n",
       "  </tbody>\n",
       "</table>\n",
       "</div>"
      ],
      "text/plain": [
       "        id                                       comment_text  target\n",
       "0  6101457  What are you talking about? What group do Pete...     0.0\n",
       "1  5342103   NO!, Let him, we need a Conservative government.     0.0\n",
       "2   743361  Perhaps he took the \"power out of the Cardinal...     0.2\n",
       "3   551008  As always, yours is dripping with sarcasm, whi...     0.0\n",
       "4   865998  The dirty little secret is that the price rang...     0.3"
      ]
     },
     "execution_count": 4,
     "metadata": {},
     "output_type": "execute_result"
    }
   ],
   "source": [
    "# Carga de datos de archivos .csv\n",
    "df = pd.read_csv('https://raw.githubusercontent.com/albahnsen/MIAD_ML_and_NLP/main/datasets/Toxicity.zip')\n",
    "df = df[['id','comment_text', 'target']]\n",
    "df.head()"
   ]
  },
  {
   "cell_type": "code",
   "execution_count": 5,
   "metadata": {},
   "outputs": [
    {
     "data": {
      "text/plain": [
       "<AxesSubplot:>"
      ]
     },
     "execution_count": 5,
     "metadata": {},
     "output_type": "execute_result"
    },
    {
     "data": {
      "image/png": "[encoded data removed]",
      "text/plain": [
       "<Figure size 640x480 with 1 Axes>"
      ]
     },
     "metadata": {},
     "output_type": "display_data"
    }
   ],
   "source": [
    "# Impresión histograma de variable de interés (y)\n",
    "df.target.hist()"
   ]
  },
  {
   "cell_type": "code",
   "execution_count": 5,
   "metadata": {},
   "outputs": [
    {
     "data": {
      "text/plain": [
       "count    541462.000000\n",
       "mean          0.102991\n",
       "std           0.196979\n",
       "min           0.000000\n",
       "25%           0.000000\n",
       "50%           0.000000\n",
       "75%           0.166667\n",
       "max           1.000000\n",
       "Name: target, dtype: float64"
      ]
     },
     "execution_count": 5,
     "metadata": {},
     "output_type": "execute_result"
    }
   ],
   "source": [
    "# Separación de variable de interés (y)\n",
    "y = df.target\n",
    "y.describe()"
   ]
  },
  {
   "cell_type": "code",
   "execution_count": 6,
   "metadata": {},
   "outputs": [],
   "source": [
    "# Separación de variables predictoras (X), solo se considera el texto de la noticia\n",
    "X = df.comment_text"
   ]
  },
  {
   "cell_type": "code",
   "execution_count": 7,
   "metadata": {},
   "outputs": [],
   "source": [
    "# Separación de datos en set de entrenamiento y test\n",
    "X_train, X_test, y_train, y_test = train_test_split(X, y, test_size=0.33, random_state=42)"
   ]
  },
  {
   "cell_type": "markdown",
   "metadata": {},
   "source": [
    "## Punto 1 - Tokenización con CountVectorizer\n",
    "\n",
    "En la celda 1 creen y entrenen el modelo de regresión de su preferencia, para que prediga la probabilidad de que un comentario sea tóxico, usando los set de entrenamiento y test definidos anteriormente. Usen la función **CountVectorizer** para preprocesar los comentarios y presenten el desempeño del modelo con la métrica del MSE.\n",
    "\n",
    "Recuerden que el preprocesamiento que se haga sobre los datos de entrenamiento  (*.fit_transform()*) deben ser aplicado al set de test (*.transform()*)."
   ]
  },
  {
   "cell_type": "code",
   "execution_count": 8,
   "metadata": {},
   "outputs": [
    {
     "name": "stdout",
     "output_type": "stream",
     "text": [
      "(362779, 141176)\n"
     ]
    },
    {
     "data": {
      "text/plain": [
       "XGBRegressor(base_score=None, booster=None, callbacks=None,\n",
       "             colsample_bylevel=None, colsample_bynode=None,\n",
       "             colsample_bytree=None, early_stopping_rounds=None,\n",
       "             enable_categorical=False, eval_metric=None, feature_types=None,\n",
       "             gamma=None, gpu_id=None, grow_policy=None, importance_type=None,\n",
       "             interaction_constraints=None, learning_rate=None, max_bin=None,\n",
       "             max_cat_threshold=None, max_cat_to_onehot=None,\n",
       "             max_delta_step=None, max_depth=None, max_leaves=None,\n",
       "             min_child_weight=None, missing=nan, monotone_constraints=None,\n",
       "             n_estimators=100, n_jobs=None, num_parallel_tree=None,\n",
       "             predictor=None, random_state=85, ...)"
      ]
     },
     "execution_count": 8,
     "metadata": {},
     "output_type": "execute_result"
    }
   ],
   "source": [
    "# Celda 1\n",
    "from sklearn.ensemble import RandomForestRegressor\n",
    "from xgboost import XGBRegressor\n",
    "\n",
    "cv = CountVectorizer(lowercase=True)\n",
    "X_train_cv = cv.fit_transform(X_train)\n",
    "print(X_train_cv.shape)\n",
    "randf = RandomForestRegressor(n_estimators = 50, max_features=\"sqrt\", n_jobs=-1)\n",
    "xgb = XGBRegressor(n_estimators = 100, random_state = 85, tree_method = \"gpu_hist\")\n",
    "\n",
    "xgb.fit(X_train_cv, y_train)"
   ]
  },
  {
   "cell_type": "code",
   "execution_count": 9,
   "metadata": {},
   "outputs": [],
   "source": [
    "X_test_cv = cv.transform(X_test)\n",
    "y_pred = xgb.predict(X_test_cv)"
   ]
  },
  {
   "cell_type": "code",
   "execution_count": 10,
   "metadata": {},
   "outputs": [
    {
     "name": "stdout",
     "output_type": "stream",
     "text": [
      "MSE del modelo entrenado: 0.26876168137219664\n"
     ]
    }
   ],
   "source": [
    "cv_mse = metrics.mean_squared_error(y_test, y_pred)\n",
    "\n",
    "mse_dict = {}\n",
    "\n",
    "print(\"MSE del modelo entrenado: {}\".format(cv_mse))\n",
    "mse_dict[\"countvectorizer\"] = cv_mse"
   ]
  },
  {
   "cell_type": "markdown",
   "metadata": {},
   "source": [
    "## Punto 2 - Tokenización con CountVectorizer y trigramas\n",
    "\n",
    "En la celda 2 creen y entrenen el mismo modelo de regresión del punto anterior (es decir si usaron un RandomForestRegresor usen nuevamente ese regresor), para que prediga la probabilidad de que un comentario sea tóxico, usando los set de entrenamiento y test definidos anteriormente. Usen la función CountVectorizer **considerando trigramas** para preprocesar los comentarios y presenten el desempeño del modelo con la métrica del MSE.\n",
    "\n",
    "Recuerden que el preprocesamiento que se haga sobre los datos de entrenamiento  (*.fit_transform()*) deben ser aplicado al set de test (*.transform()*)."
   ]
  },
  {
   "cell_type": "code",
   "execution_count": 11,
   "metadata": {},
   "outputs": [
    {
     "name": "stdout",
     "output_type": "stream",
     "text": [
      "(362779, 141176)\n"
     ]
    },
    {
     "data": {
      "text/plain": [
       "XGBRegressor(base_score=None, booster=None, callbacks=None,\n",
       "             colsample_bylevel=None, colsample_bynode=None,\n",
       "             colsample_bytree=None, early_stopping_rounds=None,\n",
       "             enable_categorical=False, eval_metric=None, feature_types=None,\n",
       "             gamma=None, gpu_id=None, grow_policy=None, importance_type=None,\n",
       "             interaction_constraints=None, learning_rate=None, max_bin=None,\n",
       "             max_cat_threshold=None, max_cat_to_onehot=None,\n",
       "             max_delta_step=None, max_depth=None, max_leaves=None,\n",
       "             min_child_weight=None, missing=nan, monotone_constraints=None,\n",
       "             n_estimators=100, n_jobs=None, num_parallel_tree=None,\n",
       "             predictor=None, random_state=85, ...)"
      ]
     },
     "execution_count": 11,
     "metadata": {},
     "output_type": "execute_result"
    }
   ],
   "source": [
    "# Celda 2\n",
    "\n",
    "#se selecciona el numero de max features igual al numero de features del proceso anterior\n",
    "max_features = 141176 #int(500e3)\n",
    "\n",
    "cv = CountVectorizer(lowercase=True, ngram_range=(3,3), max_features=max_features)\n",
    "X_train_cv = cv.fit_transform(X_train)\n",
    "print(X_train_cv.shape)\n",
    "\n",
    "xgb = XGBRegressor(n_estimators = 100, random_state = 85)\n",
    "\n",
    "xgb.fit(X_train_cv, y_train)\n",
    "# tiempo sin limitar count vectorizer 575min"
   ]
  },
  {
   "cell_type": "code",
   "execution_count": 12,
   "metadata": {},
   "outputs": [],
   "source": [
    "X_test_cv = cv.transform(X_test)\n",
    "y_pred = xgb.predict(X_test_cv)"
   ]
  },
  {
   "cell_type": "code",
   "execution_count": 24,
   "metadata": {},
   "outputs": [
    {
     "name": "stdout",
     "output_type": "stream",
     "text": [
      "MSE del modelo entrenado: 0.03671219710082734\n"
     ]
    }
   ],
   "source": [
    "cv_tri_mse = metrics.mean_squared_error(y_test, y_pred)\n",
    "\n",
    "print(\"MSE del modelo entrenado: {}\".format(cv_tri_mse))\n",
    "mse_dict[\"countvectorizer_trigram\"] = cv_tri_mse"
   ]
  },
  {
   "cell_type": "markdown",
   "metadata": {},
   "source": [
    "Se ve una mejora pronunciada en el desempeño del modelo con tan solo aumentar el tamaño de los n-gramas usados. Esto se puede deber a que las mismas palabras se utilizan en frases negativas y positivas. Algo tan sencillo como \"not good\" es un bigrama que denota negatividad, a pesar de contener la palabra \"good\"."
   ]
  },
  {
   "cell_type": "markdown",
   "metadata": {},
   "source": [
    "## Punto 3 - TfidfVectorizer\n",
    "\n",
    "Investigen sobre la función TfidfVectorizer. En la celda de texto 3, expliquen en qué consiste esta técnica de tokenización (describanla y expliquen su funcionamiento) y cúales son las ventajas o deventajas de su uso al compararlo con la función CountVectorizer."
   ]
  },
  {
   "cell_type": "markdown",
   "metadata": {},
   "source": [
    "#Celda 3\n",
    "\n",
    "Este metodo aplica inicialmente *CountVectorizer* y, posteriormente, calcula la métrica de *TF-IDF* (Term Frequency - Inverse Document Frequency) para cada uno de los elementos encontrados por la primera función. Pero, ¿qué información brinda la métrica de *TF-IDF*? Puesto sencilamente, nos dice si el término es recurrente en el documento y si, además, es un término singular en el dataset (corpus). Por ejemplo si se tiene la palabra \"el\", esta, al ser un artículo, probablemente aparezca múltiples veces a lo largo de cada documento, así como en el corpus del ejericicio, por lo que su valor de *TF-IDF* debe ser bajo. Pero si se busca la palabra *clorofila*, quizás esté  presente solo en los documentos que hablen sobre plantas. Si nuestro corpus no es específicamente sobre este tema, el valor de *TF-IDF* será alto.\n",
    "\n",
    "Particularmente, la fórmula de *TF-IDF* es:\n",
    "\n",
    "* $t$ el término/palabra a analizar\n",
    "* $d$ un documento\n",
    "* $D$ cantidad de documentos en el corpus\n",
    "* $df_{t}$: Número de documentos que contienen el término t\n",
    "\n",
    "$tfidf(t,d,D) = tf(t,d) * idf(t,D)$\n",
    "\n",
    "$tfidf(t,d,D) = tf(t,d) * log(\\frac{D}{df_{t}})$\n",
    "\n",
    "Al analizar la ecuación, se ve que el término en el logaritmo es alto cuando el valor de $df_{t}$ es bajo. Es decir, el término analizado es fuertemente singular. A la vez, el valor de $log(\\frac{D}{df_{t}})$ será cercano a 0 cuando el valor de $df_{t}$ sea cercano a $D$, que sería equivalente a decir que el término aparece en casi todos los documentos, indicando que es bastante común. \n",
    "\n",
    "El *TF-IDF* nos permite determinar la importancia de las palabras premiando los tokens más relevantes mientras se castigan los menos relevantes. En el contexto de este taller, esto permite asignar un mayor nivel de importancia a las palabras más representativas de un comentario con toxicidad alta, de modo que el modelo tendrá una métrica de discriminación más clara. Es decir, cambia la dispersión de la data reduciendo el ruido y resaltando los datos significativos. "
   ]
  },
  {
   "cell_type": "markdown",
   "metadata": {},
   "source": [
    "## Punto 4 - Tokenización con TfidfVectorizer\n",
    "\n",
    "En la celda 4 creen y entrenen el mismo modelo de regresión del primer punto, para que prediga la probabilidad de que un comentario sea tóxico, usando los set de entrenamiento y test definidos anteriormente. Procesen los comentarios con la función **TfidfVectorizer** y presenten el desempeño del modelo con la métrica del MSE.\n",
    "\n",
    "Recuerden que el preprocesamiento que se haga sobre los datos de entrenamiento  (*.fit_transform()*) deben ser aplicado al set de test (*.transform()*)."
   ]
  },
  {
   "cell_type": "code",
   "execution_count": 25,
   "metadata": {},
   "outputs": [
    {
     "name": "stdout",
     "output_type": "stream",
     "text": [
      "(362779, 141176)\n"
     ]
    },
    {
     "data": {
      "text/plain": [
       "XGBRegressor(base_score=None, booster=None, callbacks=None,\n",
       "             colsample_bylevel=None, colsample_bynode=None,\n",
       "             colsample_bytree=None, early_stopping_rounds=None,\n",
       "             enable_categorical=False, eval_metric=None, feature_types=None,\n",
       "             gamma=None, gpu_id=None, grow_policy=None, importance_type=None,\n",
       "             interaction_constraints=None, learning_rate=None, max_bin=None,\n",
       "             max_cat_threshold=None, max_cat_to_onehot=None,\n",
       "             max_delta_step=None, max_depth=None, max_leaves=None,\n",
       "             min_child_weight=None, missing=nan, monotone_constraints=None,\n",
       "             n_estimators=100, n_jobs=None, num_parallel_tree=None,\n",
       "             predictor=None, random_state=85, ...)"
      ]
     },
     "execution_count": 25,
     "metadata": {},
     "output_type": "execute_result"
    }
   ],
   "source": [
    "# Celda 4\n",
    "\n",
    "tfidf = TfidfVectorizer(lowercase=True)\n",
    "\n",
    "X_train_v = tfidf.fit_transform(X_train)\n",
    "print(X_train_v.shape)\n",
    "xgb = XGBRegressor(n_estimators = 100, random_state = 85)\n",
    "\n",
    "xgb.fit(X_train_v, y_train)"
   ]
  },
  {
   "cell_type": "code",
   "execution_count": 27,
   "metadata": {},
   "outputs": [],
   "source": [
    "X_test_v = tfidf.transform(X_test)\n",
    "y_pred = xgb.predict(X_test_v)"
   ]
  },
  {
   "cell_type": "code",
   "execution_count": 28,
   "metadata": {},
   "outputs": [
    {
     "name": "stdout",
     "output_type": "stream",
     "text": [
      "MSE del modelo entrenado: 0.020343818478258637\n"
     ]
    }
   ],
   "source": [
    "cv_tfidf_mse = metrics.mean_squared_error(y_test, y_pred)\n",
    "\n",
    "print(\"MSE del modelo entrenado: {}\".format(cv_tfidf_mse))\n",
    "mse_dict[\"tfidf\"] = cv_tfidf_mse"
   ]
  },
  {
   "cell_type": "code",
   "execution_count": 29,
   "metadata": {},
   "outputs": [
    {
     "name": "stdout",
     "output_type": "stream",
     "text": [
      "(362779, 141176)\n"
     ]
    },
    {
     "data": {
      "text/plain": [
       "XGBRegressor(base_score=None, booster=None, callbacks=None,\n",
       "             colsample_bylevel=None, colsample_bynode=None,\n",
       "             colsample_bytree=None, early_stopping_rounds=None,\n",
       "             enable_categorical=False, eval_metric=None, feature_types=None,\n",
       "             gamma=None, gpu_id=None, grow_policy=None, importance_type=None,\n",
       "             interaction_constraints=None, learning_rate=None, max_bin=None,\n",
       "             max_cat_threshold=None, max_cat_to_onehot=None,\n",
       "             max_delta_step=None, max_depth=None, max_leaves=None,\n",
       "             min_child_weight=None, missing=nan, monotone_constraints=None,\n",
       "             n_estimators=100, n_jobs=None, num_parallel_tree=None,\n",
       "             predictor=None, random_state=85, ...)"
      ]
     },
     "execution_count": 29,
     "metadata": {},
     "output_type": "execute_result"
    }
   ],
   "source": [
    "max_features = int(141176)\n",
    "\n",
    "tfidf = TfidfVectorizer(lowercase=True,ngram_range = (3,3), max_features=max_features)\n",
    "\n",
    "X_train_v = tfidf.fit_transform(X_train)\n",
    "print(X_train_v.shape)\n",
    "xgb = XGBRegressor(n_estimators = 100, random_state = 85)\n",
    "\n",
    "xgb.fit(X_train_v, y_train)"
   ]
  },
  {
   "cell_type": "code",
   "execution_count": 22,
   "metadata": {},
   "outputs": [],
   "source": [
    "X_test_v = tfidf.transform(X_test)\n",
    "y_pred = xgb.predict(X_test_v)"
   ]
  },
  {
   "cell_type": "code",
   "execution_count": 23,
   "metadata": {},
   "outputs": [
    {
     "name": "stdout",
     "output_type": "stream",
     "text": [
      "MSE del modelo entrenadod : 0.03671219710082734\n"
     ]
    }
   ],
   "source": [
    "cv_tfidf_tri_mse = metrics.mean_squared_error(y_test, y_pred)\n",
    "\n",
    "print(\"MSE del modelo entrenado: {}\".format(cv_tfidf_tri_mse))\n",
    "mse_dict[\"tfidf_trigram\"] = cv_tfidf_tri_mse"
   ]
  },
  {
   "cell_type": "markdown",
   "metadata": {},
   "source": [
    "## Punto 5 - Comparación y análisis de resultados\n",
    "\n",
    "En la celda 5 comparen los resultados obtenidos de los diferentes modelos y comenten cómo el preprocesamiento de texto afecta el desempeño."
   ]
  },
  {
   "cell_type": "code",
   "execution_count": 30,
   "metadata": {},
   "outputs": [
    {
     "data": {
      "text/plain": [
       "([0, 1, 2, 3],\n",
       " [Text(0, 0, ''), Text(0, 0, ''), Text(0, 0, ''), Text(0, 0, '')])"
      ]
     },
     "execution_count": 30,
     "metadata": {},
     "output_type": "execute_result"
    },
    {
     "data": {
      "image/png": "[encoded data removed]",
      "text/plain": [
       "<Figure size 640x480 with 1 Axes>"
      ]
     },
     "metadata": {},
     "output_type": "display_data"
    }
   ],
   "source": [
    "# Celda 5\n",
    "\n",
    "import matplotlib.pyplot as plt\n",
    "\n",
    "mse_df = pd.DataFrame.from_dict(mse_dict, orient=\"index\")\n",
    "\n",
    "plt.style.use('fivethirtyeight')\n",
    "plt.bar(x=mse_df.index, height=mse_df[0])\n",
    "plt.xlabel('metodo')\n",
    "plt.ylabel('MSE')\n",
    "plt.xticks(rotation=90)"
   ]
  },
  {
   "cell_type": "markdown",
   "metadata": {},
   "source": [
    "Como se puede ver en la gráfica anterior, la métrica *MSE* revela que el mejor desempeño está dado por el modelo de *TF-IDF* con unigramas. En general, se considera que una de las fortalezas del *TF-IDF* es la extracción de palabras clave, de modo que es entendible cómo se puede aplicar con eficacia al dataset de este taller: Debido a que con esta medida se encuentra si un término es particular/singular en cada documento, aplicarlo a nuestra data resulta en un modelo más efectivo, pues entre más alto el puntaje asociado al término, este sera más \"característico\" de el tipo de documento en el que está y, a la vez, entre más genéricos sean los tokens, menor puntaje tendrán. Por esto la métrica permite discernir con mayor claridad si una palabra es usada en un comentario negativo, o la califica como negativa con mayor fuerza. Se podría pensar que esta métrica es más fuerte que los *n-gramas*, dado que los datos que tenemos están compuestos de \"documentos\" de una sola frase, o dos. Al ser tan cortos los documentos, la singularidad de las palabras características aumenta y esto potencia su calificación como \"tóxicas\".\n",
    "\n",
    "Los modelos que le siguen son los que utilizan trigramas y tienen un mejor comportamiento que el modelo sencillo de CountVectorizer, ya que una secuencia de palabras brinda más valor para determinar si un comentario es negativo o no, en lugar de tener en cuenta una sola palabra. Por ejemplo, un comentario que diga ***este lugar no es bueno*** es negativo. Sin embargo, la palabra *bueno* también puede encontrarse en comentarios positivos. Este fenómeno es uno de los causantes del puntaje bajo del modelo inicial y también explica por qué el puntaje mejora cuando se aplican los *n-gramas*."
   ]
  }
 ],
 "metadata": {
  "kernelspec": {
   "display_name": "Python 3 (ipykernel)",
   "language": "python",
   "name": "python3"
  },
  "language_info": {
   "codemirror_mode": {
    "name": "ipython",
    "version": 3
   },
   "file_extension": ".py",
   "mimetype": "text/x-python",
   "name": "python",
   "nbconvert_exporter": "python",
   "pygments_lexer": "ipython3",
   "version": "3.9.13"
  },
  "name": "_merged"
 },
 "nbformat": 4,
 "nbformat_minor": 4
}
